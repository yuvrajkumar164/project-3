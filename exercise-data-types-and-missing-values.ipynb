{
 "cells": [
  {
   "cell_type": "markdown",
   "id": "unsigned-brown",
   "metadata": {
    "papermill": {
     "duration": 0.013231,
     "end_time": "2021-06-01T07:00:06.091192",
     "exception": false,
     "start_time": "2021-06-01T07:00:06.077961",
     "status": "completed"
    },
    "tags": []
   },
   "source": [
    "**This notebook is an exercise in the [Pandas](https://www.kaggle.com/learn/pandas) course.  You can reference the tutorial at [this link](https://www.kaggle.com/residentmario/data-types-and-missing-values).**\n",
    "\n",
    "---\n"
   ]
  },
  {
   "cell_type": "markdown",
   "id": "false-shelter",
   "metadata": {
    "papermill": {
     "duration": 0.011998,
     "end_time": "2021-06-01T07:00:06.115561",
     "exception": false,
     "start_time": "2021-06-01T07:00:06.103563",
     "status": "completed"
    },
    "tags": []
   },
   "source": [
    "# Introduction\n",
    "\n",
    "Run the following cell to load your data and some utility functions."
   ]
  },
  {
   "cell_type": "code",
   "execution_count": 1,
   "id": "ordinary-content",
   "metadata": {
    "execution": {
     "iopub.execute_input": "2021-06-01T07:00:06.147155Z",
     "iopub.status.busy": "2021-06-01T07:00:06.146523Z",
     "iopub.status.idle": "2021-06-01T07:00:09.412457Z",
     "shell.execute_reply": "2021-06-01T07:00:09.413090Z",
     "shell.execute_reply.started": "2021-06-01T06:47:55.750687Z"
    },
    "papermill": {
     "duration": 3.285612,
     "end_time": "2021-06-01T07:00:09.413476",
     "exception": false,
     "start_time": "2021-06-01T07:00:06.127864",
     "status": "completed"
    },
    "tags": []
   },
   "outputs": [
    {
     "name": "stdout",
     "output_type": "stream",
     "text": [
      "Setup complete.\n"
     ]
    }
   ],
   "source": [
    "import pandas as pd\n",
    "\n",
    "reviews = pd.read_csv(\"../input/wine-reviews/winemag-data-130k-v2.csv\", index_col=0)\n",
    "\n",
    "from learntools.core import binder; binder.bind(globals())\n",
    "from learntools.pandas.data_types_and_missing_data import *\n",
    "print(\"Setup complete.\")"
   ]
  },
  {
   "cell_type": "markdown",
   "id": "departmental-history",
   "metadata": {
    "papermill": {
     "duration": 0.012215,
     "end_time": "2021-06-01T07:00:09.438882",
     "exception": false,
     "start_time": "2021-06-01T07:00:09.426667",
     "status": "completed"
    },
    "tags": []
   },
   "source": [
    "# Exercises"
   ]
  },
  {
   "cell_type": "markdown",
   "id": "solar-sunset",
   "metadata": {
    "papermill": {
     "duration": 0.012268,
     "end_time": "2021-06-01T07:00:09.463817",
     "exception": false,
     "start_time": "2021-06-01T07:00:09.451549",
     "status": "completed"
    },
    "tags": []
   },
   "source": [
    "## 1. \n",
    "What is the data type of the `points` column in the dataset?"
   ]
  },
  {
   "cell_type": "code",
   "execution_count": 2,
   "id": "spare-radar",
   "metadata": {
    "execution": {
     "iopub.execute_input": "2021-06-01T07:00:09.497755Z",
     "iopub.status.busy": "2021-06-01T07:00:09.496754Z",
     "iopub.status.idle": "2021-06-01T07:00:09.502914Z",
     "shell.execute_reply": "2021-06-01T07:00:09.503392Z",
     "shell.execute_reply.started": "2021-06-01T06:49:00.371513Z"
    },
    "papermill": {
     "duration": 0.027063,
     "end_time": "2021-06-01T07:00:09.503575",
     "exception": false,
     "start_time": "2021-06-01T07:00:09.476512",
     "status": "completed"
    },
    "tags": []
   },
   "outputs": [
    {
     "data": {
      "application/javascript": [
       "parent.postMessage({\"jupyterEvent\": \"custom.exercise_interaction\", \"data\": {\"outcomeType\": 1, \"valueTowardsCompletion\": 0.25, \"interactionType\": 1, \"questionType\": 1, \"questionId\": \"1_PointsDtype\", \"learnToolsVersion\": \"0.3.4\", \"failureMessage\": \"\", \"exceptionClass\": \"\", \"trace\": \"\"}}, \"*\")"
      ],
      "text/plain": [
       "<IPython.core.display.Javascript object>"
      ]
     },
     "metadata": {},
     "output_type": "display_data"
    },
    {
     "data": {
      "text/markdown": [
       "<span style=\"color:#33cc33\">Correct</span>"
      ],
      "text/plain": [
       "Correct"
      ]
     },
     "metadata": {},
     "output_type": "display_data"
    }
   ],
   "source": [
    "# Your code here\n",
    "dtype = reviews.points.dtype\n",
    "\n",
    "# Check your answer\n",
    "q1.check()"
   ]
  },
  {
   "cell_type": "code",
   "execution_count": 3,
   "id": "rising-layout",
   "metadata": {
    "execution": {
     "iopub.execute_input": "2021-06-01T07:00:09.537239Z",
     "iopub.status.busy": "2021-06-01T07:00:09.536107Z",
     "iopub.status.idle": "2021-06-01T07:00:09.539920Z",
     "shell.execute_reply": "2021-06-01T07:00:09.540393Z"
    },
    "papermill": {
     "duration": 0.023017,
     "end_time": "2021-06-01T07:00:09.540582",
     "exception": false,
     "start_time": "2021-06-01T07:00:09.517565",
     "status": "completed"
    },
    "tags": []
   },
   "outputs": [],
   "source": [
    "#q1.hint()\n",
    "#q1.solution()"
   ]
  },
  {
   "cell_type": "markdown",
   "id": "beneficial-thinking",
   "metadata": {
    "papermill": {
     "duration": 0.013601,
     "end_time": "2021-06-01T07:00:09.567930",
     "exception": false,
     "start_time": "2021-06-01T07:00:09.554329",
     "status": "completed"
    },
    "tags": []
   },
   "source": [
    "## 2. \n",
    "Create a Series from entries in the `points` column, but convert the entries to strings. Hint: strings are `str` in native Python."
   ]
  },
  {
   "cell_type": "code",
   "execution_count": 4,
   "id": "extensive-singing",
   "metadata": {
    "execution": {
     "iopub.execute_input": "2021-06-01T07:00:09.599590Z",
     "iopub.status.busy": "2021-06-01T07:00:09.598529Z",
     "iopub.status.idle": "2021-06-01T07:00:09.763888Z",
     "shell.execute_reply": "2021-06-01T07:00:09.764392Z",
     "shell.execute_reply.started": "2021-06-01T06:50:05.991311Z"
    },
    "papermill": {
     "duration": 0.182909,
     "end_time": "2021-06-01T07:00:09.764582",
     "exception": false,
     "start_time": "2021-06-01T07:00:09.581673",
     "status": "completed"
    },
    "tags": []
   },
   "outputs": [
    {
     "data": {
      "application/javascript": [
       "parent.postMessage({\"jupyterEvent\": \"custom.exercise_interaction\", \"data\": {\"outcomeType\": 1, \"valueTowardsCompletion\": 0.25, \"interactionType\": 1, \"questionType\": 1, \"questionId\": \"2_StrPoints\", \"learnToolsVersion\": \"0.3.4\", \"failureMessage\": \"\", \"exceptionClass\": \"\", \"trace\": \"\"}}, \"*\")"
      ],
      "text/plain": [
       "<IPython.core.display.Javascript object>"
      ]
     },
     "metadata": {},
     "output_type": "display_data"
    },
    {
     "data": {
      "text/markdown": [
       "<span style=\"color:#33cc33\">Correct</span>"
      ],
      "text/plain": [
       "Correct"
      ]
     },
     "metadata": {},
     "output_type": "display_data"
    }
   ],
   "source": [
    "point_strings = reviews.points.astype('str')\n",
    "\n",
    "# Check your answer\n",
    "q2.check()"
   ]
  },
  {
   "cell_type": "code",
   "execution_count": 5,
   "id": "verified-grenada",
   "metadata": {
    "execution": {
     "iopub.execute_input": "2021-06-01T07:00:09.798066Z",
     "iopub.status.busy": "2021-06-01T07:00:09.797188Z",
     "iopub.status.idle": "2021-06-01T07:00:09.800498Z",
     "shell.execute_reply": "2021-06-01T07:00:09.800965Z"
    },
    "papermill": {
     "duration": 0.021937,
     "end_time": "2021-06-01T07:00:09.801154",
     "exception": false,
     "start_time": "2021-06-01T07:00:09.779217",
     "status": "completed"
    },
    "tags": []
   },
   "outputs": [],
   "source": [
    "#q2.hint()\n",
    "#q2.solution()"
   ]
  },
  {
   "cell_type": "markdown",
   "id": "intended-stationery",
   "metadata": {
    "papermill": {
     "duration": 0.015193,
     "end_time": "2021-06-01T07:00:09.831145",
     "exception": false,
     "start_time": "2021-06-01T07:00:09.815952",
     "status": "completed"
    },
    "tags": []
   },
   "source": [
    "## 3.\n",
    "Sometimes the price column is null. How many reviews in the dataset are missing a price?"
   ]
  },
  {
   "cell_type": "code",
   "execution_count": 6,
   "id": "inappropriate-interaction",
   "metadata": {
    "execution": {
     "iopub.execute_input": "2021-06-01T07:00:09.864829Z",
     "iopub.status.busy": "2021-06-01T07:00:09.863763Z",
     "iopub.status.idle": "2021-06-01T07:00:09.873978Z",
     "shell.execute_reply": "2021-06-01T07:00:09.873228Z",
     "shell.execute_reply.started": "2021-06-01T06:52:20.158670Z"
    },
    "papermill": {
     "duration": 0.028195,
     "end_time": "2021-06-01T07:00:09.874139",
     "exception": false,
     "start_time": "2021-06-01T07:00:09.845944",
     "status": "completed"
    },
    "tags": []
   },
   "outputs": [
    {
     "data": {
      "application/javascript": [
       "parent.postMessage({\"jupyterEvent\": \"custom.exercise_interaction\", \"data\": {\"outcomeType\": 1, \"valueTowardsCompletion\": 0.25, \"interactionType\": 1, \"questionType\": 1, \"questionId\": \"3_CountMissingPrices\", \"learnToolsVersion\": \"0.3.4\", \"failureMessage\": \"\", \"exceptionClass\": \"\", \"trace\": \"\"}}, \"*\")"
      ],
      "text/plain": [
       "<IPython.core.display.Javascript object>"
      ]
     },
     "metadata": {},
     "output_type": "display_data"
    },
    {
     "data": {
      "text/markdown": [
       "<span style=\"color:#33cc33\">Correct</span>"
      ],
      "text/plain": [
       "Correct"
      ]
     },
     "metadata": {},
     "output_type": "display_data"
    }
   ],
   "source": [
    "n_missing_prices = reviews.price.isnull().sum()\n",
    "\n",
    "# Check your answer\n",
    "q3.check()"
   ]
  },
  {
   "cell_type": "code",
   "execution_count": 7,
   "id": "chief-sunrise",
   "metadata": {
    "execution": {
     "iopub.execute_input": "2021-06-01T07:00:09.911140Z",
     "iopub.status.busy": "2021-06-01T07:00:09.910339Z",
     "iopub.status.idle": "2021-06-01T07:00:09.915028Z",
     "shell.execute_reply": "2021-06-01T07:00:09.915544Z",
     "shell.execute_reply.started": "2021-06-01T06:51:33.591602Z"
    },
    "papermill": {
     "duration": 0.025554,
     "end_time": "2021-06-01T07:00:09.915748",
     "exception": false,
     "start_time": "2021-06-01T07:00:09.890194",
     "status": "completed"
    },
    "tags": []
   },
   "outputs": [
    {
     "data": {
      "application/javascript": [
       "parent.postMessage({\"jupyterEvent\": \"custom.exercise_interaction\", \"data\": {\"interactionType\": 3, \"questionType\": 1, \"questionId\": \"3_CountMissingPrices\", \"learnToolsVersion\": \"0.3.4\", \"valueTowardsCompletion\": 0.0, \"failureMessage\": \"\", \"exceptionClass\": \"\", \"trace\": \"\", \"outcomeType\": 4}}, \"*\")"
      ],
      "text/plain": [
       "<IPython.core.display.Javascript object>"
      ]
     },
     "metadata": {},
     "output_type": "display_data"
    },
    {
     "data": {
      "text/markdown": [
       "<span style=\"color:#33cc99\">Solution:</span> \n",
       "```python\n",
       "missing_price_reviews = reviews[reviews.price.isnull()]\n",
       "n_missing_prices = len(missing_price_reviews)\n",
       "# Cute alternative solution: if we sum a boolean series, True is treated as 1 and False as 0\n",
       "n_missing_prices = reviews.price.isnull().sum()\n",
       "# or equivalently:\n",
       "n_missing_prices = pd.isnull(reviews.price).sum()\n",
       "\n",
       "```"
      ],
      "text/plain": [
       "Solution: \n",
       "```python\n",
       "missing_price_reviews = reviews[reviews.price.isnull()]\n",
       "n_missing_prices = len(missing_price_reviews)\n",
       "# Cute alternative solution: if we sum a boolean series, True is treated as 1 and False as 0\n",
       "n_missing_prices = reviews.price.isnull().sum()\n",
       "# or equivalently:\n",
       "n_missing_prices = pd.isnull(reviews.price).sum()\n",
       "\n",
       "```"
      ]
     },
     "metadata": {},
     "output_type": "display_data"
    }
   ],
   "source": [
    "#q3.hint()\n",
    "q3.solution()"
   ]
  },
  {
   "cell_type": "markdown",
   "id": "brief-telephone",
   "metadata": {
    "papermill": {
     "duration": 0.017773,
     "end_time": "2021-06-01T07:00:09.950553",
     "exception": false,
     "start_time": "2021-06-01T07:00:09.932780",
     "status": "completed"
    },
    "tags": []
   },
   "source": [
    "## 4.\n",
    "What are the most common wine-producing regions? Create a Series counting the number of times each value occurs in the `region_1` field. This field is often missing data, so replace missing values with `Unknown`. Sort in descending order.  Your output should look something like this:\n",
    "\n",
    "```\n",
    "Unknown                    21247\n",
    "Napa Valley                 4480\n",
    "                           ...  \n",
    "Bardolino Superiore            1\n",
    "Primitivo del Tarantino        1\n",
    "Name: region_1, Length: 1230, dtype: int64\n",
    "```"
   ]
  },
  {
   "cell_type": "code",
   "execution_count": 8,
   "id": "acceptable-timothy",
   "metadata": {
    "execution": {
     "iopub.execute_input": "2021-06-01T07:00:09.989595Z",
     "iopub.status.busy": "2021-06-01T07:00:09.988855Z",
     "iopub.status.idle": "2021-06-01T07:00:10.086282Z",
     "shell.execute_reply": "2021-06-01T07:00:10.085654Z",
     "shell.execute_reply.started": "2021-06-01T06:59:20.688146Z"
    },
    "papermill": {
     "duration": 0.117507,
     "end_time": "2021-06-01T07:00:10.086432",
     "exception": false,
     "start_time": "2021-06-01T07:00:09.968925",
     "status": "completed"
    },
    "tags": []
   },
   "outputs": [
    {
     "data": {
      "application/javascript": [
       "parent.postMessage({\"jupyterEvent\": \"custom.exercise_interaction\", \"data\": {\"outcomeType\": 1, \"valueTowardsCompletion\": 0.25, \"interactionType\": 1, \"questionType\": 2, \"questionId\": \"4_ReviewsPerRegion\", \"learnToolsVersion\": \"0.3.4\", \"failureMessage\": \"\", \"exceptionClass\": \"\", \"trace\": \"\"}}, \"*\")"
      ],
      "text/plain": [
       "<IPython.core.display.Javascript object>"
      ]
     },
     "metadata": {},
     "output_type": "display_data"
    },
    {
     "data": {
      "text/markdown": [
       "<span style=\"color:#33cc33\">Correct</span>"
      ],
      "text/plain": [
       "Correct"
      ]
     },
     "metadata": {},
     "output_type": "display_data"
    }
   ],
   "source": [
    "reviews_per_region = reviews.region_1.fillna('uknown').value_counts().sort_values(ascending=False)\n",
    "\n",
    "# Check your answer\n",
    "q4.check()"
   ]
  },
  {
   "cell_type": "code",
   "execution_count": 9,
   "id": "confused-paper",
   "metadata": {
    "execution": {
     "iopub.execute_input": "2021-06-01T07:00:10.125806Z",
     "iopub.status.busy": "2021-06-01T07:00:10.125052Z",
     "iopub.status.idle": "2021-06-01T07:00:10.133358Z",
     "shell.execute_reply": "2021-06-01T07:00:10.132796Z",
     "shell.execute_reply.started": "2021-06-01T06:57:06.587336Z"
    },
    "papermill": {
     "duration": 0.029294,
     "end_time": "2021-06-01T07:00:10.133522",
     "exception": false,
     "start_time": "2021-06-01T07:00:10.104228",
     "status": "completed"
    },
    "tags": []
   },
   "outputs": [
    {
     "data": {
      "application/javascript": [
       "parent.postMessage({\"jupyterEvent\": \"custom.exercise_interaction\", \"data\": {\"interactionType\": 3, \"questionType\": 2, \"questionId\": \"4_ReviewsPerRegion\", \"learnToolsVersion\": \"0.3.4\", \"valueTowardsCompletion\": 0.0, \"failureMessage\": \"\", \"exceptionClass\": \"\", \"trace\": \"\", \"outcomeType\": 4}}, \"*\")"
      ],
      "text/plain": [
       "<IPython.core.display.Javascript object>"
      ]
     },
     "metadata": {},
     "output_type": "display_data"
    },
    {
     "data": {
      "text/markdown": [
       "<span style=\"color:#33cc99\">Solution:</span> \n",
       "```python\n",
       "reviews_per_region = reviews.region_1.fillna('Unknown').value_counts().sort_values(ascending=False)\n",
       "```"
      ],
      "text/plain": [
       "Solution: \n",
       "```python\n",
       "reviews_per_region = reviews.region_1.fillna('Unknown').value_counts().sort_values(ascending=False)\n",
       "```"
      ]
     },
     "metadata": {},
     "output_type": "display_data"
    }
   ],
   "source": [
    "#q4.hint()\n",
    "q4.solution()"
   ]
  },
  {
   "cell_type": "markdown",
   "id": "appointed-anaheim",
   "metadata": {
    "papermill": {
     "duration": 0.018533,
     "end_time": "2021-06-01T07:00:10.172451",
     "exception": false,
     "start_time": "2021-06-01T07:00:10.153918",
     "status": "completed"
    },
    "tags": []
   },
   "source": [
    "# Keep going\n",
    "\n",
    "Move on to **[renaming and combining](https://www.kaggle.com/residentmario/renaming-and-combining)**."
   ]
  },
  {
   "cell_type": "markdown",
   "id": "lyric-tolerance",
   "metadata": {
    "papermill": {
     "duration": 0.018353,
     "end_time": "2021-06-01T07:00:10.209635",
     "exception": false,
     "start_time": "2021-06-01T07:00:10.191282",
     "status": "completed"
    },
    "tags": []
   },
   "source": [
    "---\n",
    "\n",
    "\n",
    "\n",
    "\n",
    "*Have questions or comments? Visit the [Learn Discussion forum](https://www.kaggle.com/learn-forum/161299) to chat with other Learners.*"
   ]
  }
 ],
 "metadata": {
  "kernelspec": {
   "display_name": "Python 3",
   "language": "python",
   "name": "python3"
  },
  "language_info": {
   "codemirror_mode": {
    "name": "ipython",
    "version": 3
   },
   "file_extension": ".py",
   "mimetype": "text/x-python",
   "name": "python",
   "nbconvert_exporter": "python",
   "pygments_lexer": "ipython3",
   "version": "3.7.9"
  },
  "papermill": {
   "default_parameters": {},
   "duration": 11.904459,
   "end_time": "2021-06-01T07:00:10.940730",
   "environment_variables": {},
   "exception": null,
   "input_path": "__notebook__.ipynb",
   "output_path": "__notebook__.ipynb",
   "parameters": {},
   "start_time": "2021-06-01T06:59:59.036271",
   "version": "2.3.2"
  }
 },
 "nbformat": 4,
 "nbformat_minor": 5
}
