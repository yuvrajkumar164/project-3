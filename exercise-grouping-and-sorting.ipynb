{
 "cells": [
  {
   "cell_type": "markdown",
   "id": "civil-herald",
   "metadata": {
    "papermill": {
     "duration": 0.019093,
     "end_time": "2021-06-01T05:58:17.223143",
     "exception": false,
     "start_time": "2021-06-01T05:58:17.204050",
     "status": "completed"
    },
    "tags": []
   },
   "source": [
    "**This notebook is an exercise in the [Pandas](https://www.kaggle.com/learn/pandas) course.  You can reference the tutorial at [this link](https://www.kaggle.com/residentmario/grouping-and-sorting).**\n",
    "\n",
    "---\n"
   ]
  },
  {
   "cell_type": "markdown",
   "id": "rocky-setting",
   "metadata": {
    "papermill": {
     "duration": 0.017806,
     "end_time": "2021-06-01T05:58:17.259740",
     "exception": false,
     "start_time": "2021-06-01T05:58:17.241934",
     "status": "completed"
    },
    "tags": []
   },
   "source": [
    "# Introduction\n",
    "\n",
    "In these exercises we'll apply groupwise analysis to our dataset.\n",
    "\n",
    "Run the code cell below to load the data before running the exercises."
   ]
  },
  {
   "cell_type": "code",
   "execution_count": 1,
   "id": "hungry-homework",
   "metadata": {
    "execution": {
     "iopub.execute_input": "2021-06-01T05:58:17.303089Z",
     "iopub.status.busy": "2021-06-01T05:58:17.302477Z",
     "iopub.status.idle": "2021-06-01T05:58:20.724350Z",
     "shell.execute_reply": "2021-06-01T05:58:20.723280Z",
     "shell.execute_reply.started": "2021-06-01T05:29:05.763613Z"
    },
    "papermill": {
     "duration": 3.446651,
     "end_time": "2021-06-01T05:58:20.724529",
     "exception": false,
     "start_time": "2021-06-01T05:58:17.277878",
     "status": "completed"
    },
    "tags": []
   },
   "outputs": [
    {
     "name": "stdout",
     "output_type": "stream",
     "text": [
      "Setup complete.\n"
     ]
    }
   ],
   "source": [
    "import pandas as pd\n",
    "\n",
    "reviews = pd.read_csv(\"../input/wine-reviews/winemag-data-130k-v2.csv\", index_col=0)\n",
    "#pd.set_option(\"display.max_rows\", 5)\n",
    "\n",
    "from learntools.core import binder; binder.bind(globals())\n",
    "from learntools.pandas.grouping_and_sorting import *\n",
    "print(\"Setup complete.\")"
   ]
  },
  {
   "cell_type": "markdown",
   "id": "worth-chassis",
   "metadata": {
    "papermill": {
     "duration": 0.01772,
     "end_time": "2021-06-01T05:58:20.760666",
     "exception": false,
     "start_time": "2021-06-01T05:58:20.742946",
     "status": "completed"
    },
    "tags": []
   },
   "source": [
    "# Exercises"
   ]
  },
  {
   "cell_type": "markdown",
   "id": "wrong-column",
   "metadata": {
    "papermill": {
     "duration": 0.017298,
     "end_time": "2021-06-01T05:58:20.796074",
     "exception": false,
     "start_time": "2021-06-01T05:58:20.778776",
     "status": "completed"
    },
    "tags": []
   },
   "source": [
    "## 1.\n",
    "Who are the most common wine reviewers in the dataset? Create a `Series` whose index is the `taster_twitter_handle` category from the dataset, and whose values count how many reviews each person wrote."
   ]
  },
  {
   "cell_type": "code",
   "execution_count": 2,
   "id": "complimentary-architect",
   "metadata": {
    "execution": {
     "iopub.execute_input": "2021-06-01T05:58:20.853838Z",
     "iopub.status.busy": "2021-06-01T05:58:20.853079Z",
     "iopub.status.idle": "2021-06-01T05:58:20.875635Z",
     "shell.execute_reply": "2021-06-01T05:58:20.876143Z",
     "shell.execute_reply.started": "2021-06-01T05:30:18.263138Z"
    },
    "papermill": {
     "duration": 0.060794,
     "end_time": "2021-06-01T05:58:20.876324",
     "exception": false,
     "start_time": "2021-06-01T05:58:20.815530",
     "status": "completed"
    },
    "tags": []
   },
   "outputs": [
    {
     "data": {
      "application/javascript": [
       "parent.postMessage({\"jupyterEvent\": \"custom.exercise_interaction\", \"data\": {\"outcomeType\": 1, \"valueTowardsCompletion\": 0.16666666666666666, \"interactionType\": 1, \"questionType\": 1, \"questionId\": \"1_ReviewsWritten\", \"learnToolsVersion\": \"0.3.4\", \"failureMessage\": \"\", \"exceptionClass\": \"\", \"trace\": \"\"}}, \"*\")"
      ],
      "text/plain": [
       "<IPython.core.display.Javascript object>"
      ]
     },
     "metadata": {},
     "output_type": "display_data"
    },
    {
     "data": {
      "text/markdown": [
       "<span style=\"color:#33cc33\">Correct:</span> \n",
       "\n",
       "\n",
       "```python\n",
       "reviews_written = reviews.groupby('taster_twitter_handle').size()\n",
       "```\n",
       "or\n",
       "```python\n",
       "reviews_written = reviews.groupby('taster_twitter_handle').taster_twitter_handle.count()\n",
       "```\n"
      ],
      "text/plain": [
       "Correct: \n",
       "\n",
       "\n",
       "```python\n",
       "reviews_written = reviews.groupby('taster_twitter_handle').size()\n",
       "```\n",
       "or\n",
       "```python\n",
       "reviews_written = reviews.groupby('taster_twitter_handle').taster_twitter_handle.count()\n",
       "```"
      ]
     },
     "metadata": {},
     "output_type": "display_data"
    }
   ],
   "source": [
    "# Your code here\n",
    "reviews_written =reviews.groupby('taster_twitter_handle').taster_twitter_handle.count()\n",
    "\n",
    "# Check your answer\n",
    "q1.check()"
   ]
  },
  {
   "cell_type": "code",
   "execution_count": 3,
   "id": "ethical-brick",
   "metadata": {
    "execution": {
     "iopub.execute_input": "2021-06-01T05:58:20.920192Z",
     "iopub.status.busy": "2021-06-01T05:58:20.919159Z",
     "iopub.status.idle": "2021-06-01T05:58:20.925974Z",
     "shell.execute_reply": "2021-06-01T05:58:20.925395Z",
     "shell.execute_reply.started": "2021-06-01T05:29:48.903293Z"
    },
    "papermill": {
     "duration": 0.030844,
     "end_time": "2021-06-01T05:58:20.926159",
     "exception": false,
     "start_time": "2021-06-01T05:58:20.895315",
     "status": "completed"
    },
    "tags": []
   },
   "outputs": [
    {
     "data": {
      "application/javascript": [
       "parent.postMessage({\"jupyterEvent\": \"custom.exercise_interaction\", \"data\": {\"interactionType\": 3, \"questionType\": 1, \"questionId\": \"1_ReviewsWritten\", \"learnToolsVersion\": \"0.3.4\", \"valueTowardsCompletion\": 0.0, \"failureMessage\": \"\", \"exceptionClass\": \"\", \"trace\": \"\", \"outcomeType\": 4}}, \"*\")"
      ],
      "text/plain": [
       "<IPython.core.display.Javascript object>"
      ]
     },
     "metadata": {},
     "output_type": "display_data"
    },
    {
     "data": {
      "text/markdown": [
       "<span style=\"color:#33cc99\">Solution:</span> \n",
       "```python\n",
       "reviews_written = reviews.groupby('taster_twitter_handle').size()\n",
       "```\n",
       "or\n",
       "```python\n",
       "reviews_written = reviews.groupby('taster_twitter_handle').taster_twitter_handle.count()\n",
       "```\n"
      ],
      "text/plain": [
       "Solution: \n",
       "```python\n",
       "reviews_written = reviews.groupby('taster_twitter_handle').size()\n",
       "```\n",
       "or\n",
       "```python\n",
       "reviews_written = reviews.groupby('taster_twitter_handle').taster_twitter_handle.count()\n",
       "```"
      ]
     },
     "metadata": {},
     "output_type": "display_data"
    }
   ],
   "source": [
    "#q1.hint()\n",
    "q1.solution()"
   ]
  },
  {
   "cell_type": "markdown",
   "id": "blond-split",
   "metadata": {
    "papermill": {
     "duration": 0.020402,
     "end_time": "2021-06-01T05:58:20.966633",
     "exception": false,
     "start_time": "2021-06-01T05:58:20.946231",
     "status": "completed"
    },
    "tags": []
   },
   "source": [
    "## 2.\n",
    "What is the best wine I can buy for a given amount of money? Create a `Series` whose index is wine prices and whose values is the maximum number of points a wine costing that much was given in a review. Sort the values by price, ascending (so that `4.0` dollars is at the top and `3300.0` dollars is at the bottom)."
   ]
  },
  {
   "cell_type": "code",
   "execution_count": 4,
   "id": "trained-coach",
   "metadata": {
    "execution": {
     "iopub.execute_input": "2021-06-01T05:58:21.014138Z",
     "iopub.status.busy": "2021-06-01T05:58:21.012774Z",
     "iopub.status.idle": "2021-06-01T05:58:21.025473Z",
     "shell.execute_reply": "2021-06-01T05:58:21.025914Z",
     "shell.execute_reply.started": "2021-06-01T05:33:34.630327Z"
    },
    "papermill": {
     "duration": 0.039551,
     "end_time": "2021-06-01T05:58:21.026099",
     "exception": false,
     "start_time": "2021-06-01T05:58:20.986548",
     "status": "completed"
    },
    "tags": []
   },
   "outputs": [
    {
     "data": {
      "application/javascript": [
       "parent.postMessage({\"jupyterEvent\": \"custom.exercise_interaction\", \"data\": {\"outcomeType\": 1, \"valueTowardsCompletion\": 0.16666666666666666, \"interactionType\": 1, \"questionType\": 1, \"questionId\": \"2_BestRatingPerPrice\", \"learnToolsVersion\": \"0.3.4\", \"failureMessage\": \"\", \"exceptionClass\": \"\", \"trace\": \"\"}}, \"*\")"
      ],
      "text/plain": [
       "<IPython.core.display.Javascript object>"
      ]
     },
     "metadata": {},
     "output_type": "display_data"
    },
    {
     "data": {
      "text/markdown": [
       "<span style=\"color:#33cc33\">Correct</span>"
      ],
      "text/plain": [
       "Correct"
      ]
     },
     "metadata": {},
     "output_type": "display_data"
    }
   ],
   "source": [
    "best_rating_per_price = reviews.groupby('price')['points'].max().sort_index()\n",
    "\n",
    "# Check your answer\n",
    "q2.check()"
   ]
  },
  {
   "cell_type": "code",
   "execution_count": 5,
   "id": "economic-bouquet",
   "metadata": {
    "execution": {
     "iopub.execute_input": "2021-06-01T05:58:21.072813Z",
     "iopub.status.busy": "2021-06-01T05:58:21.071835Z",
     "iopub.status.idle": "2021-06-01T05:58:21.079036Z",
     "shell.execute_reply": "2021-06-01T05:58:21.079592Z",
     "shell.execute_reply.started": "2021-06-01T05:31:25.428778Z"
    },
    "papermill": {
     "duration": 0.032601,
     "end_time": "2021-06-01T05:58:21.079779",
     "exception": false,
     "start_time": "2021-06-01T05:58:21.047178",
     "status": "completed"
    },
    "tags": []
   },
   "outputs": [
    {
     "data": {
      "application/javascript": [
       "parent.postMessage({\"jupyterEvent\": \"custom.exercise_interaction\", \"data\": {\"interactionType\": 3, \"questionType\": 1, \"questionId\": \"2_BestRatingPerPrice\", \"learnToolsVersion\": \"0.3.4\", \"valueTowardsCompletion\": 0.0, \"failureMessage\": \"\", \"exceptionClass\": \"\", \"trace\": \"\", \"outcomeType\": 4}}, \"*\")"
      ],
      "text/plain": [
       "<IPython.core.display.Javascript object>"
      ]
     },
     "metadata": {},
     "output_type": "display_data"
    },
    {
     "data": {
      "text/markdown": [
       "<span style=\"color:#33cc99\">Solution:</span> \n",
       "```python\n",
       "best_rating_per_price = reviews.groupby('price')['points'].max().sort_index()\n",
       "```"
      ],
      "text/plain": [
       "Solution: \n",
       "```python\n",
       "best_rating_per_price = reviews.groupby('price')['points'].max().sort_index()\n",
       "```"
      ]
     },
     "metadata": {},
     "output_type": "display_data"
    }
   ],
   "source": [
    "#q2.hint()\n",
    "q2.solution()"
   ]
  },
  {
   "cell_type": "markdown",
   "id": "egyptian-davis",
   "metadata": {
    "papermill": {
     "duration": 0.021854,
     "end_time": "2021-06-01T05:58:21.123784",
     "exception": false,
     "start_time": "2021-06-01T05:58:21.101930",
     "status": "completed"
    },
    "tags": []
   },
   "source": [
    "## 3.\n",
    "What are the minimum and maximum prices for each `variety` of wine? Create a `DataFrame` whose index is the `variety` category from the dataset and whose values are the `min` and `max` values thereof."
   ]
  },
  {
   "cell_type": "code",
   "execution_count": 6,
   "id": "decimal-australian",
   "metadata": {
    "execution": {
     "iopub.execute_input": "2021-06-01T05:58:21.172239Z",
     "iopub.status.busy": "2021-06-01T05:58:21.171229Z",
     "iopub.status.idle": "2021-06-01T05:58:21.208340Z",
     "shell.execute_reply": "2021-06-01T05:58:21.208794Z",
     "shell.execute_reply.started": "2021-06-01T05:34:45.543616Z"
    },
    "papermill": {
     "duration": 0.063056,
     "end_time": "2021-06-01T05:58:21.208985",
     "exception": false,
     "start_time": "2021-06-01T05:58:21.145929",
     "status": "completed"
    },
    "tags": []
   },
   "outputs": [
    {
     "data": {
      "application/javascript": [
       "parent.postMessage({\"jupyterEvent\": \"custom.exercise_interaction\", \"data\": {\"outcomeType\": 1, \"valueTowardsCompletion\": 0.16666666666666666, \"interactionType\": 1, \"questionType\": 1, \"questionId\": \"3_PriceExtremes\", \"learnToolsVersion\": \"0.3.4\", \"failureMessage\": \"\", \"exceptionClass\": \"\", \"trace\": \"\"}}, \"*\")"
      ],
      "text/plain": [
       "<IPython.core.display.Javascript object>"
      ]
     },
     "metadata": {},
     "output_type": "display_data"
    },
    {
     "data": {
      "text/markdown": [
       "<span style=\"color:#33cc33\">Correct</span>"
      ],
      "text/plain": [
       "Correct"
      ]
     },
     "metadata": {},
     "output_type": "display_data"
    }
   ],
   "source": [
    "price_extremes = reviews.groupby('variety').price.agg([min, max])\n",
    "\n",
    "# Check your answer\n",
    "q3.check()"
   ]
  },
  {
   "cell_type": "code",
   "execution_count": 7,
   "id": "prime-egyptian",
   "metadata": {
    "execution": {
     "iopub.execute_input": "2021-06-01T05:58:21.259469Z",
     "iopub.status.busy": "2021-06-01T05:58:21.258423Z",
     "iopub.status.idle": "2021-06-01T05:58:21.265761Z",
     "shell.execute_reply": "2021-06-01T05:58:21.266316Z",
     "shell.execute_reply.started": "2021-06-01T05:34:28.464087Z"
    },
    "papermill": {
     "duration": 0.034676,
     "end_time": "2021-06-01T05:58:21.266513",
     "exception": false,
     "start_time": "2021-06-01T05:58:21.231837",
     "status": "completed"
    },
    "tags": []
   },
   "outputs": [
    {
     "data": {
      "application/javascript": [
       "parent.postMessage({\"jupyterEvent\": \"custom.exercise_interaction\", \"data\": {\"interactionType\": 3, \"questionType\": 1, \"questionId\": \"3_PriceExtremes\", \"learnToolsVersion\": \"0.3.4\", \"valueTowardsCompletion\": 0.0, \"failureMessage\": \"\", \"exceptionClass\": \"\", \"trace\": \"\", \"outcomeType\": 4}}, \"*\")"
      ],
      "text/plain": [
       "<IPython.core.display.Javascript object>"
      ]
     },
     "metadata": {},
     "output_type": "display_data"
    },
    {
     "data": {
      "text/markdown": [
       "<span style=\"color:#33cc99\">Solution:</span> \n",
       "```python\n",
       "price_extremes = reviews.groupby('variety').price.agg([min, max])\n",
       "```"
      ],
      "text/plain": [
       "Solution: \n",
       "```python\n",
       "price_extremes = reviews.groupby('variety').price.agg([min, max])\n",
       "```"
      ]
     },
     "metadata": {},
     "output_type": "display_data"
    }
   ],
   "source": [
    "#q3.hint()\n",
    "q3.solution()"
   ]
  },
  {
   "cell_type": "markdown",
   "id": "italic-pizza",
   "metadata": {
    "papermill": {
     "duration": 0.02471,
     "end_time": "2021-06-01T05:58:21.315482",
     "exception": false,
     "start_time": "2021-06-01T05:58:21.290772",
     "status": "completed"
    },
    "tags": []
   },
   "source": [
    "## 4.\n",
    "What are the most expensive wine varieties? Create a variable `sorted_varieties` containing a copy of the dataframe from the previous question where varieties are sorted in descending order based on minimum price, then on maximum price (to break ties)."
   ]
  },
  {
   "cell_type": "code",
   "execution_count": 8,
   "id": "latin-space",
   "metadata": {
    "execution": {
     "iopub.execute_input": "2021-06-01T05:58:21.368264Z",
     "iopub.status.busy": "2021-06-01T05:58:21.367235Z",
     "iopub.status.idle": "2021-06-01T05:58:21.378216Z",
     "shell.execute_reply": "2021-06-01T05:58:21.378733Z",
     "shell.execute_reply.started": "2021-06-01T05:36:09.223364Z"
    },
    "papermill": {
     "duration": 0.039167,
     "end_time": "2021-06-01T05:58:21.378919",
     "exception": false,
     "start_time": "2021-06-01T05:58:21.339752",
     "status": "completed"
    },
    "tags": []
   },
   "outputs": [
    {
     "data": {
      "application/javascript": [
       "parent.postMessage({\"jupyterEvent\": \"custom.exercise_interaction\", \"data\": {\"outcomeType\": 1, \"valueTowardsCompletion\": 0.16666666666666666, \"interactionType\": 1, \"questionType\": 1, \"questionId\": \"4_SortedVarieties\", \"learnToolsVersion\": \"0.3.4\", \"failureMessage\": \"\", \"exceptionClass\": \"\", \"trace\": \"\"}}, \"*\")"
      ],
      "text/plain": [
       "<IPython.core.display.Javascript object>"
      ]
     },
     "metadata": {},
     "output_type": "display_data"
    },
    {
     "data": {
      "text/markdown": [
       "<span style=\"color:#33cc33\">Correct</span>"
      ],
      "text/plain": [
       "Correct"
      ]
     },
     "metadata": {},
     "output_type": "display_data"
    }
   ],
   "source": [
    "sorted_varieties = price_extremes.sort_values(by=['min', 'max'], ascending=False)\n",
    "\n",
    "# Check your answer\n",
    "q4.check()"
   ]
  },
  {
   "cell_type": "code",
   "execution_count": 9,
   "id": "third-visit",
   "metadata": {
    "execution": {
     "iopub.execute_input": "2021-06-01T05:58:21.433152Z",
     "iopub.status.busy": "2021-06-01T05:58:21.432289Z",
     "iopub.status.idle": "2021-06-01T05:58:21.439843Z",
     "shell.execute_reply": "2021-06-01T05:58:21.439230Z",
     "shell.execute_reply.started": "2021-06-01T05:35:27.683243Z"
    },
    "papermill": {
     "duration": 0.035773,
     "end_time": "2021-06-01T05:58:21.439985",
     "exception": false,
     "start_time": "2021-06-01T05:58:21.404212",
     "status": "completed"
    },
    "tags": []
   },
   "outputs": [
    {
     "data": {
      "application/javascript": [
       "parent.postMessage({\"jupyterEvent\": \"custom.exercise_interaction\", \"data\": {\"interactionType\": 3, \"questionType\": 1, \"questionId\": \"4_SortedVarieties\", \"learnToolsVersion\": \"0.3.4\", \"valueTowardsCompletion\": 0.0, \"failureMessage\": \"\", \"exceptionClass\": \"\", \"trace\": \"\", \"outcomeType\": 4}}, \"*\")"
      ],
      "text/plain": [
       "<IPython.core.display.Javascript object>"
      ]
     },
     "metadata": {},
     "output_type": "display_data"
    },
    {
     "data": {
      "text/markdown": [
       "<span style=\"color:#33cc99\">Solution:</span> \n",
       "```python\n",
       "sorted_varieties = price_extremes.sort_values(by=['min', 'max'], ascending=False)\n",
       "```"
      ],
      "text/plain": [
       "Solution: \n",
       "```python\n",
       "sorted_varieties = price_extremes.sort_values(by=['min', 'max'], ascending=False)\n",
       "```"
      ]
     },
     "metadata": {},
     "output_type": "display_data"
    }
   ],
   "source": [
    "#q4.hint()\n",
    "q4.solution()"
   ]
  },
  {
   "cell_type": "markdown",
   "id": "closing-tract",
   "metadata": {
    "papermill": {
     "duration": 0.024768,
     "end_time": "2021-06-01T05:58:21.489931",
     "exception": false,
     "start_time": "2021-06-01T05:58:21.465163",
     "status": "completed"
    },
    "tags": []
   },
   "source": [
    "## 5.\n",
    "Create a `Series` whose index is reviewers and whose values is the average review score given out by that reviewer. Hint: you will need the `taster_name` and `points` columns."
   ]
  },
  {
   "cell_type": "code",
   "execution_count": 10,
   "id": "welsh-detector",
   "metadata": {
    "execution": {
     "iopub.execute_input": "2021-06-01T05:58:21.560888Z",
     "iopub.status.busy": "2021-06-01T05:58:21.545950Z",
     "iopub.status.idle": "2021-06-01T05:58:21.570016Z",
     "shell.execute_reply": "2021-06-01T05:58:21.569460Z",
     "shell.execute_reply.started": "2021-06-01T05:38:53.384101Z"
    },
    "papermill": {
     "duration": 0.054902,
     "end_time": "2021-06-01T05:58:21.570180",
     "exception": false,
     "start_time": "2021-06-01T05:58:21.515278",
     "status": "completed"
    },
    "tags": []
   },
   "outputs": [
    {
     "data": {
      "application/javascript": [
       "parent.postMessage({\"jupyterEvent\": \"custom.exercise_interaction\", \"data\": {\"outcomeType\": 1, \"valueTowardsCompletion\": 0.16666666666666666, \"interactionType\": 1, \"questionType\": 1, \"questionId\": \"5_ReviewerMeanRatings\", \"learnToolsVersion\": \"0.3.4\", \"failureMessage\": \"\", \"exceptionClass\": \"\", \"trace\": \"\"}}, \"*\")"
      ],
      "text/plain": [
       "<IPython.core.display.Javascript object>"
      ]
     },
     "metadata": {},
     "output_type": "display_data"
    },
    {
     "data": {
      "text/markdown": [
       "<span style=\"color:#33cc33\">Correct</span>"
      ],
      "text/plain": [
       "Correct"
      ]
     },
     "metadata": {},
     "output_type": "display_data"
    }
   ],
   "source": [
    "reviewer_mean_ratings = reviews.groupby('taster_name').points.mean()\n",
    "\n",
    "# Check your answer\n",
    "q5.check()"
   ]
  },
  {
   "cell_type": "code",
   "execution_count": 11,
   "id": "desperate-chester",
   "metadata": {
    "execution": {
     "iopub.execute_input": "2021-06-01T05:58:21.629215Z",
     "iopub.status.busy": "2021-06-01T05:58:21.628523Z",
     "iopub.status.idle": "2021-06-01T05:58:21.632945Z",
     "shell.execute_reply": "2021-06-01T05:58:21.633496Z",
     "shell.execute_reply.started": "2021-06-01T05:38:27.824642Z"
    },
    "papermill": {
     "duration": 0.0369,
     "end_time": "2021-06-01T05:58:21.633688",
     "exception": false,
     "start_time": "2021-06-01T05:58:21.596788",
     "status": "completed"
    },
    "tags": []
   },
   "outputs": [
    {
     "data": {
      "application/javascript": [
       "parent.postMessage({\"jupyterEvent\": \"custom.exercise_interaction\", \"data\": {\"interactionType\": 3, \"questionType\": 1, \"questionId\": \"5_ReviewerMeanRatings\", \"learnToolsVersion\": \"0.3.4\", \"valueTowardsCompletion\": 0.0, \"failureMessage\": \"\", \"exceptionClass\": \"\", \"trace\": \"\", \"outcomeType\": 4}}, \"*\")"
      ],
      "text/plain": [
       "<IPython.core.display.Javascript object>"
      ]
     },
     "metadata": {},
     "output_type": "display_data"
    },
    {
     "data": {
      "text/markdown": [
       "<span style=\"color:#33cc99\">Solution:</span> \n",
       "```python\n",
       "reviewer_mean_ratings = reviews.groupby('taster_name').points.mean()\n",
       "```"
      ],
      "text/plain": [
       "Solution: \n",
       "```python\n",
       "reviewer_mean_ratings = reviews.groupby('taster_name').points.mean()\n",
       "```"
      ]
     },
     "metadata": {},
     "output_type": "display_data"
    }
   ],
   "source": [
    "#q5.hint()\n",
    "q5.solution()"
   ]
  },
  {
   "cell_type": "markdown",
   "id": "visible-equivalent",
   "metadata": {
    "papermill": {
     "duration": 0.027148,
     "end_time": "2021-06-01T05:58:21.688606",
     "exception": false,
     "start_time": "2021-06-01T05:58:21.661458",
     "status": "completed"
    },
    "tags": []
   },
   "source": [
    "Are there significant differences in the average scores assigned by the various reviewers? Run the cell below to use the `describe()` method to see a summary of the range of values."
   ]
  },
  {
   "cell_type": "code",
   "execution_count": 12,
   "id": "paperback-report",
   "metadata": {
    "execution": {
     "iopub.execute_input": "2021-06-01T05:58:21.747005Z",
     "iopub.status.busy": "2021-06-01T05:58:21.746324Z",
     "iopub.status.idle": "2021-06-01T05:58:21.760834Z",
     "shell.execute_reply": "2021-06-01T05:58:21.760127Z",
     "shell.execute_reply.started": "2021-06-01T05:39:00.593745Z"
    },
    "papermill": {
     "duration": 0.044884,
     "end_time": "2021-06-01T05:58:21.761016",
     "exception": false,
     "start_time": "2021-06-01T05:58:21.716132",
     "status": "completed"
    },
    "tags": []
   },
   "outputs": [
    {
     "data": {
      "text/plain": [
       "count    19.000000\n",
       "mean     88.233026\n",
       "std       1.243610\n",
       "min      85.855422\n",
       "25%      87.323501\n",
       "50%      88.536235\n",
       "75%      88.975256\n",
       "max      90.562551\n",
       "Name: points, dtype: float64"
      ]
     },
     "execution_count": 12,
     "metadata": {},
     "output_type": "execute_result"
    }
   ],
   "source": [
    "reviewer_mean_ratings.describe()"
   ]
  },
  {
   "cell_type": "markdown",
   "id": "general-victory",
   "metadata": {
    "papermill": {
     "duration": 0.027827,
     "end_time": "2021-06-01T05:58:21.816851",
     "exception": false,
     "start_time": "2021-06-01T05:58:21.789024",
     "status": "completed"
    },
    "tags": []
   },
   "source": [
    "## 6.\n",
    "What combination of countries and varieties are most common? Create a `Series` whose index is a `MultiIndex`of `{country, variety}` pairs. For example, a pinot noir produced in the US should map to `{\"US\", \"Pinot Noir\"}`. Sort the values in the `Series` in descending order based on wine count."
   ]
  },
  {
   "cell_type": "code",
   "execution_count": 13,
   "id": "clean-favor",
   "metadata": {
    "execution": {
     "iopub.execute_input": "2021-06-01T05:58:21.894232Z",
     "iopub.status.busy": "2021-06-01T05:58:21.893498Z",
     "iopub.status.idle": "2021-06-01T05:58:21.922871Z",
     "shell.execute_reply": "2021-06-01T05:58:21.922393Z",
     "shell.execute_reply.started": "2021-06-01T05:48:40.932364Z"
    },
    "papermill": {
     "duration": 0.07806,
     "end_time": "2021-06-01T05:58:21.923003",
     "exception": false,
     "start_time": "2021-06-01T05:58:21.844943",
     "status": "completed"
    },
    "tags": []
   },
   "outputs": [
    {
     "data": {
      "application/javascript": [
       "parent.postMessage({\"jupyterEvent\": \"custom.exercise_interaction\", \"data\": {\"outcomeType\": 1, \"valueTowardsCompletion\": 0.16666666666666666, \"interactionType\": 1, \"questionType\": 1, \"questionId\": \"6_GroupbyCountryVariety\", \"learnToolsVersion\": \"0.3.4\", \"failureMessage\": \"\", \"exceptionClass\": \"\", \"trace\": \"\"}}, \"*\")"
      ],
      "text/plain": [
       "<IPython.core.display.Javascript object>"
      ]
     },
     "metadata": {},
     "output_type": "display_data"
    },
    {
     "data": {
      "text/markdown": [
       "<span style=\"color:#33cc33\">Correct</span>"
      ],
      "text/plain": [
       "Correct"
      ]
     },
     "metadata": {},
     "output_type": "display_data"
    }
   ],
   "source": [
    "country_variety_counts = reviews.groupby(['country', 'variety']).size().sort_values(ascending=False)\n",
    "\n",
    "# Check your answer\n",
    "q6.check()"
   ]
  },
  {
   "cell_type": "code",
   "execution_count": 14,
   "id": "constitutional-camcorder",
   "metadata": {
    "execution": {
     "iopub.execute_input": "2021-06-01T05:58:21.985021Z",
     "iopub.status.busy": "2021-06-01T05:58:21.984328Z",
     "iopub.status.idle": "2021-06-01T05:58:21.989640Z",
     "shell.execute_reply": "2021-06-01T05:58:21.989052Z",
     "shell.execute_reply.started": "2021-06-01T05:47:50.839237Z"
    },
    "papermill": {
     "duration": 0.038323,
     "end_time": "2021-06-01T05:58:21.989776",
     "exception": false,
     "start_time": "2021-06-01T05:58:21.951453",
     "status": "completed"
    },
    "tags": []
   },
   "outputs": [
    {
     "data": {
      "application/javascript": [
       "parent.postMessage({\"jupyterEvent\": \"custom.exercise_interaction\", \"data\": {\"interactionType\": 3, \"questionType\": 1, \"questionId\": \"6_GroupbyCountryVariety\", \"learnToolsVersion\": \"0.3.4\", \"valueTowardsCompletion\": 0.0, \"failureMessage\": \"\", \"exceptionClass\": \"\", \"trace\": \"\", \"outcomeType\": 4}}, \"*\")"
      ],
      "text/plain": [
       "<IPython.core.display.Javascript object>"
      ]
     },
     "metadata": {},
     "output_type": "display_data"
    },
    {
     "data": {
      "text/markdown": [
       "<span style=\"color:#33cc99\">Solution:</span> \n",
       "```python\n",
       "country_variety_counts = reviews.groupby(['country', 'variety']).size().sort_values(ascending=False)\n",
       "```"
      ],
      "text/plain": [
       "Solution: \n",
       "```python\n",
       "country_variety_counts = reviews.groupby(['country', 'variety']).size().sort_values(ascending=False)\n",
       "```"
      ]
     },
     "metadata": {},
     "output_type": "display_data"
    }
   ],
   "source": [
    "#q6.hint()\n",
    "q6.solution()"
   ]
  },
  {
   "cell_type": "markdown",
   "id": "sustained-murder",
   "metadata": {
    "papermill": {
     "duration": 0.028395,
     "end_time": "2021-06-01T05:58:22.047472",
     "exception": false,
     "start_time": "2021-06-01T05:58:22.019077",
     "status": "completed"
    },
    "tags": []
   },
   "source": [
    "# Keep going\n",
    "\n",
    "Move on to the [**data types and missing data**](https://www.kaggle.com/residentmario/data-types-and-missing-values)."
   ]
  },
  {
   "cell_type": "markdown",
   "id": "contemporary-exchange",
   "metadata": {
    "papermill": {
     "duration": 0.030014,
     "end_time": "2021-06-01T05:58:22.106546",
     "exception": false,
     "start_time": "2021-06-01T05:58:22.076532",
     "status": "completed"
    },
    "tags": []
   },
   "source": [
    "---\n",
    "\n",
    "\n",
    "\n",
    "\n",
    "*Have questions or comments? Visit the [Learn Discussion forum](https://www.kaggle.com/learn-forum/161299) to chat with other Learners.*"
   ]
  }
 ],
 "metadata": {
  "kernelspec": {
   "display_name": "Python 3",
   "language": "python",
   "name": "python3"
  },
  "language_info": {
   "codemirror_mode": {
    "name": "ipython",
    "version": 3
   },
   "file_extension": ".py",
   "mimetype": "text/x-python",
   "name": "python",
   "nbconvert_exporter": "python",
   "pygments_lexer": "ipython3",
   "version": "3.7.9"
  },
  "papermill": {
   "default_parameters": {},
   "duration": 11.908286,
   "end_time": "2021-06-01T05:58:22.947240",
   "environment_variables": {},
   "exception": null,
   "input_path": "__notebook__.ipynb",
   "output_path": "__notebook__.ipynb",
   "parameters": {},
   "start_time": "2021-06-01T05:58:11.038954",
   "version": "2.3.2"
  }
 },
 "nbformat": 4,
 "nbformat_minor": 5
}
